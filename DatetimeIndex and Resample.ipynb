{
 "cells": [
  {
   "cell_type": "code",
   "execution_count": 5,
   "id": "cdfc06b2",
   "metadata": {},
   "outputs": [
    {
     "data": {
      "text/html": [
       "<div>\n",
       "<style scoped>\n",
       "    .dataframe tbody tr th:only-of-type {\n",
       "        vertical-align: middle;\n",
       "    }\n",
       "\n",
       "    .dataframe tbody tr th {\n",
       "        vertical-align: top;\n",
       "    }\n",
       "\n",
       "    .dataframe thead th {\n",
       "        text-align: right;\n",
       "    }\n",
       "</style>\n",
       "<table border=\"1\" class=\"dataframe\">\n",
       "  <thead>\n",
       "    <tr style=\"text-align: right;\">\n",
       "      <th></th>\n",
       "      <th>Open</th>\n",
       "      <th>High</th>\n",
       "      <th>Low</th>\n",
       "      <th>Close</th>\n",
       "      <th>Adj Close</th>\n",
       "      <th>Volume</th>\n",
       "    </tr>\n",
       "    <tr>\n",
       "      <th>Date</th>\n",
       "      <th></th>\n",
       "      <th></th>\n",
       "      <th></th>\n",
       "      <th></th>\n",
       "      <th></th>\n",
       "      <th></th>\n",
       "    </tr>\n",
       "  </thead>\n",
       "  <tbody>\n",
       "    <tr>\n",
       "      <th>2021-04-30</th>\n",
       "      <td>131.779999</td>\n",
       "      <td>133.559998</td>\n",
       "      <td>131.070007</td>\n",
       "      <td>131.460007</td>\n",
       "      <td>130.683289</td>\n",
       "      <td>109839500</td>\n",
       "    </tr>\n",
       "    <tr>\n",
       "      <th>2021-05-03</th>\n",
       "      <td>132.039993</td>\n",
       "      <td>134.070007</td>\n",
       "      <td>131.830002</td>\n",
       "      <td>132.539993</td>\n",
       "      <td>131.756897</td>\n",
       "      <td>75135100</td>\n",
       "    </tr>\n",
       "    <tr>\n",
       "      <th>2021-05-04</th>\n",
       "      <td>131.190002</td>\n",
       "      <td>131.490005</td>\n",
       "      <td>126.699997</td>\n",
       "      <td>127.849998</td>\n",
       "      <td>127.094612</td>\n",
       "      <td>137564700</td>\n",
       "    </tr>\n",
       "    <tr>\n",
       "      <th>2021-05-05</th>\n",
       "      <td>129.199997</td>\n",
       "      <td>130.449997</td>\n",
       "      <td>127.970001</td>\n",
       "      <td>128.100006</td>\n",
       "      <td>127.343140</td>\n",
       "      <td>84000900</td>\n",
       "    </tr>\n",
       "    <tr>\n",
       "      <th>2021-05-06</th>\n",
       "      <td>127.889999</td>\n",
       "      <td>129.750000</td>\n",
       "      <td>127.129997</td>\n",
       "      <td>129.740005</td>\n",
       "      <td>128.973450</td>\n",
       "      <td>78128300</td>\n",
       "    </tr>\n",
       "  </tbody>\n",
       "</table>\n",
       "</div>"
      ],
      "text/plain": [
       "                  Open        High         Low       Close   Adj Close  \\\n",
       "Date                                                                     \n",
       "2021-04-30  131.779999  133.559998  131.070007  131.460007  130.683289   \n",
       "2021-05-03  132.039993  134.070007  131.830002  132.539993  131.756897   \n",
       "2021-05-04  131.190002  131.490005  126.699997  127.849998  127.094612   \n",
       "2021-05-05  129.199997  130.449997  127.970001  128.100006  127.343140   \n",
       "2021-05-06  127.889999  129.750000  127.129997  129.740005  128.973450   \n",
       "\n",
       "               Volume  \n",
       "Date                   \n",
       "2021-04-30  109839500  \n",
       "2021-05-03   75135100  \n",
       "2021-05-04  137564700  \n",
       "2021-05-05   84000900  \n",
       "2021-05-06   78128300  "
      ]
     },
     "execution_count": 5,
     "metadata": {},
     "output_type": "execute_result"
    }
   ],
   "source": [
    "import pandas as pd\n",
    "df=pd.read_csv('AAPL.csv', parse_dates=['Date'], index_col='Date')\n",
    "df.head(5)"
   ]
  },
  {
   "cell_type": "code",
   "execution_count": 4,
   "id": "bf2ac39f",
   "metadata": {},
   "outputs": [
    {
     "data": {
      "text/plain": [
       "pandas._libs.tslibs.timestamps.Timestamp"
      ]
     },
     "execution_count": 4,
     "metadata": {},
     "output_type": "execute_result"
    }
   ],
   "source": [
    "type(df.Date[0])"
   ]
  },
  {
   "cell_type": "code",
   "execution_count": 6,
   "id": "00a97e16",
   "metadata": {},
   "outputs": [
    {
     "data": {
      "text/plain": [
       "DatetimeIndex(['2021-04-30', '2021-05-03', '2021-05-04', '2021-05-05',\n",
       "               '2021-05-06', '2021-05-07', '2021-05-10', '2021-05-11',\n",
       "               '2021-05-12', '2021-05-13',\n",
       "               ...\n",
       "               '2022-04-18', '2022-04-19', '2022-04-20', '2022-04-21',\n",
       "               '2022-04-22', '2022-04-25', '2022-04-26', '2022-04-27',\n",
       "               '2022-04-28', '2022-04-29'],\n",
       "              dtype='datetime64[ns]', name='Date', length=253, freq=None)"
      ]
     },
     "execution_count": 6,
     "metadata": {},
     "output_type": "execute_result"
    }
   ],
   "source": [
    "df.index"
   ]
  },
  {
   "cell_type": "code",
   "execution_count": 7,
   "id": "179a5a83",
   "metadata": {},
   "outputs": [
    {
     "name": "stderr",
     "output_type": "stream",
     "text": [
      "C:\\Users\\Rimon\\AppData\\Local\\Temp/ipykernel_5540/3712454365.py:1: FutureWarning: Indexing a DataFrame with a datetimelike index using a single string to slice the rows, like `frame[string]`, is deprecated and will be removed in a future version. Use `frame.loc[string]` instead.\n",
      "  df['2022-01']\n"
     ]
    },
    {
     "data": {
      "text/html": [
       "<div>\n",
       "<style scoped>\n",
       "    .dataframe tbody tr th:only-of-type {\n",
       "        vertical-align: middle;\n",
       "    }\n",
       "\n",
       "    .dataframe tbody tr th {\n",
       "        vertical-align: top;\n",
       "    }\n",
       "\n",
       "    .dataframe thead th {\n",
       "        text-align: right;\n",
       "    }\n",
       "</style>\n",
       "<table border=\"1\" class=\"dataframe\">\n",
       "  <thead>\n",
       "    <tr style=\"text-align: right;\">\n",
       "      <th></th>\n",
       "      <th>Open</th>\n",
       "      <th>High</th>\n",
       "      <th>Low</th>\n",
       "      <th>Close</th>\n",
       "      <th>Adj Close</th>\n",
       "      <th>Volume</th>\n",
       "    </tr>\n",
       "    <tr>\n",
       "      <th>Date</th>\n",
       "      <th></th>\n",
       "      <th></th>\n",
       "      <th></th>\n",
       "      <th></th>\n",
       "      <th></th>\n",
       "      <th></th>\n",
       "    </tr>\n",
       "  </thead>\n",
       "  <tbody>\n",
       "    <tr>\n",
       "      <th>2022-01-03</th>\n",
       "      <td>177.830002</td>\n",
       "      <td>182.880005</td>\n",
       "      <td>177.710007</td>\n",
       "      <td>182.009995</td>\n",
       "      <td>181.778397</td>\n",
       "      <td>104487900</td>\n",
       "    </tr>\n",
       "    <tr>\n",
       "      <th>2022-01-04</th>\n",
       "      <td>182.630005</td>\n",
       "      <td>182.940002</td>\n",
       "      <td>179.119995</td>\n",
       "      <td>179.699997</td>\n",
       "      <td>179.471344</td>\n",
       "      <td>99310400</td>\n",
       "    </tr>\n",
       "    <tr>\n",
       "      <th>2022-01-05</th>\n",
       "      <td>179.610001</td>\n",
       "      <td>180.169998</td>\n",
       "      <td>174.639999</td>\n",
       "      <td>174.919998</td>\n",
       "      <td>174.697418</td>\n",
       "      <td>94537600</td>\n",
       "    </tr>\n",
       "    <tr>\n",
       "      <th>2022-01-06</th>\n",
       "      <td>172.699997</td>\n",
       "      <td>175.300003</td>\n",
       "      <td>171.639999</td>\n",
       "      <td>172.000000</td>\n",
       "      <td>171.781143</td>\n",
       "      <td>96904000</td>\n",
       "    </tr>\n",
       "    <tr>\n",
       "      <th>2022-01-07</th>\n",
       "      <td>172.889999</td>\n",
       "      <td>174.139999</td>\n",
       "      <td>171.029999</td>\n",
       "      <td>172.169998</td>\n",
       "      <td>171.950928</td>\n",
       "      <td>86709100</td>\n",
       "    </tr>\n",
       "    <tr>\n",
       "      <th>2022-01-10</th>\n",
       "      <td>169.080002</td>\n",
       "      <td>172.500000</td>\n",
       "      <td>168.169998</td>\n",
       "      <td>172.190002</td>\n",
       "      <td>171.970901</td>\n",
       "      <td>106765600</td>\n",
       "    </tr>\n",
       "    <tr>\n",
       "      <th>2022-01-11</th>\n",
       "      <td>172.320007</td>\n",
       "      <td>175.179993</td>\n",
       "      <td>170.820007</td>\n",
       "      <td>175.080002</td>\n",
       "      <td>174.857224</td>\n",
       "      <td>76138300</td>\n",
       "    </tr>\n",
       "    <tr>\n",
       "      <th>2022-01-12</th>\n",
       "      <td>176.119995</td>\n",
       "      <td>177.179993</td>\n",
       "      <td>174.820007</td>\n",
       "      <td>175.529999</td>\n",
       "      <td>175.306641</td>\n",
       "      <td>74805200</td>\n",
       "    </tr>\n",
       "    <tr>\n",
       "      <th>2022-01-13</th>\n",
       "      <td>175.779999</td>\n",
       "      <td>176.619995</td>\n",
       "      <td>171.789993</td>\n",
       "      <td>172.190002</td>\n",
       "      <td>171.970901</td>\n",
       "      <td>84505800</td>\n",
       "    </tr>\n",
       "    <tr>\n",
       "      <th>2022-01-14</th>\n",
       "      <td>171.339996</td>\n",
       "      <td>173.779999</td>\n",
       "      <td>171.089996</td>\n",
       "      <td>173.070007</td>\n",
       "      <td>172.849792</td>\n",
       "      <td>80440800</td>\n",
       "    </tr>\n",
       "    <tr>\n",
       "      <th>2022-01-18</th>\n",
       "      <td>171.509995</td>\n",
       "      <td>172.539993</td>\n",
       "      <td>169.410004</td>\n",
       "      <td>169.800003</td>\n",
       "      <td>169.583939</td>\n",
       "      <td>90956700</td>\n",
       "    </tr>\n",
       "    <tr>\n",
       "      <th>2022-01-19</th>\n",
       "      <td>170.000000</td>\n",
       "      <td>171.080002</td>\n",
       "      <td>165.940002</td>\n",
       "      <td>166.229996</td>\n",
       "      <td>166.018478</td>\n",
       "      <td>94815000</td>\n",
       "    </tr>\n",
       "    <tr>\n",
       "      <th>2022-01-20</th>\n",
       "      <td>166.979996</td>\n",
       "      <td>169.679993</td>\n",
       "      <td>164.179993</td>\n",
       "      <td>164.509995</td>\n",
       "      <td>164.300659</td>\n",
       "      <td>91420500</td>\n",
       "    </tr>\n",
       "    <tr>\n",
       "      <th>2022-01-21</th>\n",
       "      <td>164.419998</td>\n",
       "      <td>166.330002</td>\n",
       "      <td>162.300003</td>\n",
       "      <td>162.410004</td>\n",
       "      <td>162.203354</td>\n",
       "      <td>122848900</td>\n",
       "    </tr>\n",
       "    <tr>\n",
       "      <th>2022-01-24</th>\n",
       "      <td>160.020004</td>\n",
       "      <td>162.300003</td>\n",
       "      <td>154.699997</td>\n",
       "      <td>161.619995</td>\n",
       "      <td>161.414337</td>\n",
       "      <td>162294600</td>\n",
       "    </tr>\n",
       "    <tr>\n",
       "      <th>2022-01-25</th>\n",
       "      <td>158.979996</td>\n",
       "      <td>162.759995</td>\n",
       "      <td>157.020004</td>\n",
       "      <td>159.779999</td>\n",
       "      <td>159.576691</td>\n",
       "      <td>115798400</td>\n",
       "    </tr>\n",
       "    <tr>\n",
       "      <th>2022-01-26</th>\n",
       "      <td>163.500000</td>\n",
       "      <td>164.389999</td>\n",
       "      <td>157.820007</td>\n",
       "      <td>159.690002</td>\n",
       "      <td>159.486801</td>\n",
       "      <td>108275300</td>\n",
       "    </tr>\n",
       "    <tr>\n",
       "      <th>2022-01-27</th>\n",
       "      <td>162.449997</td>\n",
       "      <td>163.839996</td>\n",
       "      <td>158.279999</td>\n",
       "      <td>159.220001</td>\n",
       "      <td>159.017410</td>\n",
       "      <td>121954600</td>\n",
       "    </tr>\n",
       "    <tr>\n",
       "      <th>2022-01-28</th>\n",
       "      <td>165.710007</td>\n",
       "      <td>170.350006</td>\n",
       "      <td>162.800003</td>\n",
       "      <td>170.330002</td>\n",
       "      <td>170.113266</td>\n",
       "      <td>179935700</td>\n",
       "    </tr>\n",
       "    <tr>\n",
       "      <th>2022-01-31</th>\n",
       "      <td>170.160004</td>\n",
       "      <td>175.000000</td>\n",
       "      <td>169.509995</td>\n",
       "      <td>174.779999</td>\n",
       "      <td>174.557602</td>\n",
       "      <td>115541600</td>\n",
       "    </tr>\n",
       "  </tbody>\n",
       "</table>\n",
       "</div>"
      ],
      "text/plain": [
       "                  Open        High         Low       Close   Adj Close  \\\n",
       "Date                                                                     \n",
       "2022-01-03  177.830002  182.880005  177.710007  182.009995  181.778397   \n",
       "2022-01-04  182.630005  182.940002  179.119995  179.699997  179.471344   \n",
       "2022-01-05  179.610001  180.169998  174.639999  174.919998  174.697418   \n",
       "2022-01-06  172.699997  175.300003  171.639999  172.000000  171.781143   \n",
       "2022-01-07  172.889999  174.139999  171.029999  172.169998  171.950928   \n",
       "2022-01-10  169.080002  172.500000  168.169998  172.190002  171.970901   \n",
       "2022-01-11  172.320007  175.179993  170.820007  175.080002  174.857224   \n",
       "2022-01-12  176.119995  177.179993  174.820007  175.529999  175.306641   \n",
       "2022-01-13  175.779999  176.619995  171.789993  172.190002  171.970901   \n",
       "2022-01-14  171.339996  173.779999  171.089996  173.070007  172.849792   \n",
       "2022-01-18  171.509995  172.539993  169.410004  169.800003  169.583939   \n",
       "2022-01-19  170.000000  171.080002  165.940002  166.229996  166.018478   \n",
       "2022-01-20  166.979996  169.679993  164.179993  164.509995  164.300659   \n",
       "2022-01-21  164.419998  166.330002  162.300003  162.410004  162.203354   \n",
       "2022-01-24  160.020004  162.300003  154.699997  161.619995  161.414337   \n",
       "2022-01-25  158.979996  162.759995  157.020004  159.779999  159.576691   \n",
       "2022-01-26  163.500000  164.389999  157.820007  159.690002  159.486801   \n",
       "2022-01-27  162.449997  163.839996  158.279999  159.220001  159.017410   \n",
       "2022-01-28  165.710007  170.350006  162.800003  170.330002  170.113266   \n",
       "2022-01-31  170.160004  175.000000  169.509995  174.779999  174.557602   \n",
       "\n",
       "               Volume  \n",
       "Date                   \n",
       "2022-01-03  104487900  \n",
       "2022-01-04   99310400  \n",
       "2022-01-05   94537600  \n",
       "2022-01-06   96904000  \n",
       "2022-01-07   86709100  \n",
       "2022-01-10  106765600  \n",
       "2022-01-11   76138300  \n",
       "2022-01-12   74805200  \n",
       "2022-01-13   84505800  \n",
       "2022-01-14   80440800  \n",
       "2022-01-18   90956700  \n",
       "2022-01-19   94815000  \n",
       "2022-01-20   91420500  \n",
       "2022-01-21  122848900  \n",
       "2022-01-24  162294600  \n",
       "2022-01-25  115798400  \n",
       "2022-01-26  108275300  \n",
       "2022-01-27  121954600  \n",
       "2022-01-28  179935700  \n",
       "2022-01-31  115541600  "
      ]
     },
     "execution_count": 7,
     "metadata": {},
     "output_type": "execute_result"
    }
   ],
   "source": [
    "df['2022-01']"
   ]
  },
  {
   "cell_type": "code",
   "execution_count": 10,
   "id": "af01a570",
   "metadata": {},
   "outputs": [
    {
     "name": "stderr",
     "output_type": "stream",
     "text": [
      "C:\\Users\\Rimon\\AppData\\Local\\Temp/ipykernel_5540/635508838.py:1: FutureWarning: Indexing a DataFrame with a datetimelike index using a single string to slice the rows, like `frame[string]`, is deprecated and will be removed in a future version. Use `frame.loc[string]` instead.\n",
      "  df['2022-01'].Close.mean()\n"
     ]
    },
    {
     "data": {
      "text/plain": [
       "169.8614998"
      ]
     },
     "execution_count": 10,
     "metadata": {},
     "output_type": "execute_result"
    }
   ],
   "source": [
    "df['2022-01'].Close.mean()"
   ]
  },
  {
   "cell_type": "code",
   "execution_count": 13,
   "id": "d0443771",
   "metadata": {},
   "outputs": [
    {
     "data": {
      "text/html": [
       "<div>\n",
       "<style scoped>\n",
       "    .dataframe tbody tr th:only-of-type {\n",
       "        vertical-align: middle;\n",
       "    }\n",
       "\n",
       "    .dataframe tbody tr th {\n",
       "        vertical-align: top;\n",
       "    }\n",
       "\n",
       "    .dataframe thead th {\n",
       "        text-align: right;\n",
       "    }\n",
       "</style>\n",
       "<table border=\"1\" class=\"dataframe\">\n",
       "  <thead>\n",
       "    <tr style=\"text-align: right;\">\n",
       "      <th></th>\n",
       "      <th>Open</th>\n",
       "      <th>High</th>\n",
       "      <th>Low</th>\n",
       "      <th>Close</th>\n",
       "      <th>Adj Close</th>\n",
       "      <th>Volume</th>\n",
       "    </tr>\n",
       "    <tr>\n",
       "      <th>Date</th>\n",
       "      <th></th>\n",
       "      <th></th>\n",
       "      <th></th>\n",
       "      <th></th>\n",
       "      <th></th>\n",
       "      <th></th>\n",
       "    </tr>\n",
       "  </thead>\n",
       "  <tbody>\n",
       "    <tr>\n",
       "      <th>2022-01-03</th>\n",
       "      <td>177.830002</td>\n",
       "      <td>182.880005</td>\n",
       "      <td>177.710007</td>\n",
       "      <td>182.009995</td>\n",
       "      <td>181.778397</td>\n",
       "      <td>104487900</td>\n",
       "    </tr>\n",
       "    <tr>\n",
       "      <th>2022-01-04</th>\n",
       "      <td>182.630005</td>\n",
       "      <td>182.940002</td>\n",
       "      <td>179.119995</td>\n",
       "      <td>179.699997</td>\n",
       "      <td>179.471344</td>\n",
       "      <td>99310400</td>\n",
       "    </tr>\n",
       "    <tr>\n",
       "      <th>2022-01-05</th>\n",
       "      <td>179.610001</td>\n",
       "      <td>180.169998</td>\n",
       "      <td>174.639999</td>\n",
       "      <td>174.919998</td>\n",
       "      <td>174.697418</td>\n",
       "      <td>94537600</td>\n",
       "    </tr>\n",
       "    <tr>\n",
       "      <th>2022-01-06</th>\n",
       "      <td>172.699997</td>\n",
       "      <td>175.300003</td>\n",
       "      <td>171.639999</td>\n",
       "      <td>172.000000</td>\n",
       "      <td>171.781143</td>\n",
       "      <td>96904000</td>\n",
       "    </tr>\n",
       "    <tr>\n",
       "      <th>2022-01-07</th>\n",
       "      <td>172.889999</td>\n",
       "      <td>174.139999</td>\n",
       "      <td>171.029999</td>\n",
       "      <td>172.169998</td>\n",
       "      <td>171.950928</td>\n",
       "      <td>86709100</td>\n",
       "    </tr>\n",
       "    <tr>\n",
       "      <th>...</th>\n",
       "      <td>...</td>\n",
       "      <td>...</td>\n",
       "      <td>...</td>\n",
       "      <td>...</td>\n",
       "      <td>...</td>\n",
       "      <td>...</td>\n",
       "    </tr>\n",
       "    <tr>\n",
       "      <th>2022-03-25</th>\n",
       "      <td>173.880005</td>\n",
       "      <td>175.279999</td>\n",
       "      <td>172.750000</td>\n",
       "      <td>174.720001</td>\n",
       "      <td>174.720001</td>\n",
       "      <td>80546200</td>\n",
       "    </tr>\n",
       "    <tr>\n",
       "      <th>2022-03-28</th>\n",
       "      <td>172.169998</td>\n",
       "      <td>175.729996</td>\n",
       "      <td>172.000000</td>\n",
       "      <td>175.600006</td>\n",
       "      <td>175.600006</td>\n",
       "      <td>90371900</td>\n",
       "    </tr>\n",
       "    <tr>\n",
       "      <th>2022-03-29</th>\n",
       "      <td>176.690002</td>\n",
       "      <td>179.009995</td>\n",
       "      <td>176.339996</td>\n",
       "      <td>178.960007</td>\n",
       "      <td>178.960007</td>\n",
       "      <td>100589400</td>\n",
       "    </tr>\n",
       "    <tr>\n",
       "      <th>2022-03-30</th>\n",
       "      <td>178.550003</td>\n",
       "      <td>179.610001</td>\n",
       "      <td>176.699997</td>\n",
       "      <td>177.770004</td>\n",
       "      <td>177.770004</td>\n",
       "      <td>92633200</td>\n",
       "    </tr>\n",
       "    <tr>\n",
       "      <th>2022-03-31</th>\n",
       "      <td>177.839996</td>\n",
       "      <td>178.029999</td>\n",
       "      <td>174.399994</td>\n",
       "      <td>174.610001</td>\n",
       "      <td>174.610001</td>\n",
       "      <td>103049300</td>\n",
       "    </tr>\n",
       "  </tbody>\n",
       "</table>\n",
       "<p>62 rows × 6 columns</p>\n",
       "</div>"
      ],
      "text/plain": [
       "                  Open        High         Low       Close   Adj Close  \\\n",
       "Date                                                                     \n",
       "2022-01-03  177.830002  182.880005  177.710007  182.009995  181.778397   \n",
       "2022-01-04  182.630005  182.940002  179.119995  179.699997  179.471344   \n",
       "2022-01-05  179.610001  180.169998  174.639999  174.919998  174.697418   \n",
       "2022-01-06  172.699997  175.300003  171.639999  172.000000  171.781143   \n",
       "2022-01-07  172.889999  174.139999  171.029999  172.169998  171.950928   \n",
       "...                ...         ...         ...         ...         ...   \n",
       "2022-03-25  173.880005  175.279999  172.750000  174.720001  174.720001   \n",
       "2022-03-28  172.169998  175.729996  172.000000  175.600006  175.600006   \n",
       "2022-03-29  176.690002  179.009995  176.339996  178.960007  178.960007   \n",
       "2022-03-30  178.550003  179.610001  176.699997  177.770004  177.770004   \n",
       "2022-03-31  177.839996  178.029999  174.399994  174.610001  174.610001   \n",
       "\n",
       "               Volume  \n",
       "Date                   \n",
       "2022-01-03  104487900  \n",
       "2022-01-04   99310400  \n",
       "2022-01-05   94537600  \n",
       "2022-01-06   96904000  \n",
       "2022-01-07   86709100  \n",
       "...               ...  \n",
       "2022-03-25   80546200  \n",
       "2022-03-28   90371900  \n",
       "2022-03-29  100589400  \n",
       "2022-03-30   92633200  \n",
       "2022-03-31  103049300  \n",
       "\n",
       "[62 rows x 6 columns]"
      ]
     },
     "execution_count": 13,
     "metadata": {},
     "output_type": "execute_result"
    }
   ],
   "source": [
    "df['2022-01':'2022-03']"
   ]
  },
  {
   "cell_type": "code",
   "execution_count": 14,
   "id": "f16b2e75",
   "metadata": {},
   "outputs": [
    {
     "data": {
      "text/plain": [
       "Date\n",
       "2021-04-30    131.460007\n",
       "2021-05-31    126.784000\n",
       "2021-06-30    129.958636\n",
       "2021-07-31    145.139524\n",
       "2021-08-31    148.177727\n",
       "2021-09-30    148.306190\n",
       "2021-10-31    145.563809\n",
       "2021-11-30    154.255716\n",
       "2021-12-31    173.552727\n",
       "2022-01-31    169.861500\n",
       "2022-02-28    169.830001\n",
       "2022-03-31    165.310435\n",
       "2022-04-30    166.820999\n",
       "Freq: M, Name: Close, dtype: float64"
      ]
     },
     "execution_count": 14,
     "metadata": {},
     "output_type": "execute_result"
    }
   ],
   "source": [
    "df.Close.resample('M').mean()"
   ]
  },
  {
   "cell_type": "code",
   "execution_count": 16,
   "id": "ba8f8c25",
   "metadata": {},
   "outputs": [
    {
     "data": {
      "text/plain": [
       "<AxesSubplot:xlabel='Date'>"
      ]
     },
     "execution_count": 16,
     "metadata": {},
     "output_type": "execute_result"
    },
    {
     "data": {
      "image/png": "[encoded data removed]",
      "text/plain": [
       "<Figure size 432x288 with 1 Axes>"
      ]
     },
     "metadata": {
      "needs_background": "light"
     },
     "output_type": "display_data"
    }
   ],
   "source": [
    "%matplotlib inline\n",
    "df.Close.resample('M').mean().plot()"
   ]
  },
  {
   "cell_type": "code",
   "execution_count": 17,
   "id": "54f927c6",
   "metadata": {},
   "outputs": [
    {
     "data": {
      "text/plain": [
       "<AxesSubplot:xlabel='Date'>"
      ]
     },
     "execution_count": 17,
     "metadata": {},
     "output_type": "execute_result"
    },
    {
     "data": {
      "image/png": "[encoded data removed]",
      "text/plain": [
       "<Figure size 432x288 with 1 Axes>"
      ]
     },
     "metadata": {
      "needs_background": "light"
     },
     "output_type": "display_data"
    }
   ],
   "source": [
    "%matplotlib inline\n",
    "df.Close.resample('Q').mean().plot()"
   ]
  },
  {
   "cell_type": "code",
   "execution_count": 18,
   "id": "d9dac659",
   "metadata": {},
   "outputs": [
    {
     "data": {
      "text/plain": [
       "<AxesSubplot:xlabel='Date'>"
      ]
     },
     "execution_count": 18,
     "metadata": {},
     "output_type": "execute_result"
    },
    {
     "data": {
      "image/png": "[encoded data removed]",
      "text/plain": [
       "<Figure size 432x288 with 1 Axes>"
      ]
     },
     "metadata": {
      "needs_background": "light"
     },
     "output_type": "display_data"
    }
   ],
   "source": [
    "%matplotlib inline\n",
    "df.Close.resample('M').mean().plot(kind='bar')"
   ]
  },
  {
   "cell_type": "code",
   "execution_count": 19,
   "id": "78b60723",
   "metadata": {},
   "outputs": [
    {
     "data": {
      "text/plain": [
       "<AxesSubplot:xlabel='Date'>"
      ]
     },
     "execution_count": 19,
     "metadata": {},
     "output_type": "execute_result"
    },
    {
     "data": {
      "image/png": "[encoded data removed]",
      "text/plain": [
       "<Figure size 432x288 with 1 Axes>"
      ]
     },
     "metadata": {
      "needs_background": "light"
     },
     "output_type": "display_data"
    }
   ],
   "source": [
    "%matplotlib inline\n",
    "df.Close.plot()"
   ]
  },
  {
   "cell_type": "code",
   "execution_count": null,
   "id": "2e319d6b",
   "metadata": {},
   "outputs": [],
   "source": []
  }
 ],
 "metadata": {
  "kernelspec": {
   "display_name": "Python 3 (ipykernel)",
   "language": "python",
   "name": "python3"
  },
  "language_info": {
   "codemirror_mode": {
    "name": "ipython",
    "version": 3
   },
   "file_extension": ".py",
   "mimetype": "text/x-python",
   "name": "python",
   "nbconvert_exporter": "python",
   "pygments_lexer": "ipython3",
   "version": "3.9.7"
  }
 },
 "nbformat": 4,
 "nbformat_minor": 5
}
